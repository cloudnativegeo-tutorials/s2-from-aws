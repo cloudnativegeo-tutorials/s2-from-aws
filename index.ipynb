{
 "cells": [
  {
   "cell_type": "raw",
   "id": "0",
   "metadata": {
    "vscode": {
     "languageId": "raw"
    }
   },
   "source": [
    "---\n",
    "repo: 967733181\n",
    "machine: basicLinux32gb\n",
    "region: UsWest\n",
    "format:\n",
    "  html: default\n",
    "  ipynb:\n",
    "    output-file: guide_s2_aws_container\n",
    "---"
   ]
  },
  {
   "cell_type": "markdown",
   "id": "1",
   "metadata": {},
   "source": [
    "::: callout-tip\n",
    "## How to run this tutorial\n",
    "In order to run the code in this tutorial, you can either download the notebook to run it on your local computer, or click the button below to run the tutorial in a GitHub Codespace.\n",
    "\n",
    "[![](https://github.com/codespaces/badge.svg)](https://github.com/codespaces/new?hide_repo_select=true&skip_quickstart=true&ref=main&repo={{< meta repo >}}&geo={{< meta region >}}&machine={{< meta machine >}})\n",
    ":::"
   ]
  },
  {
   "cell_type": "markdown",
   "id": "2",
   "metadata": {
    "id": "ac106a8f"
   },
   "source": [
    "# Access Sentinel 2 Data from AWS\n",
    "\n",
    "https://registry.opendata.aws/sentinel-2-l2a-cogs/"
   ]
  },
  {
   "cell_type": "code",
   "execution_count": null,
   "id": "3",
   "metadata": {
    "id": "de7beb3a"
   },
   "outputs": [],
   "source": [
    "import dask.distributed\n",
    "import folium\n",
    "import folium.plugins\n",
    "import geopandas as gpd\n",
    "import odc.ui\n",
    "import shapely.geometry\n",
    "import yaml\n",
    "from branca.element import Figure\n",
    "from IPython.display import HTML, display\n",
    "from odc.algo import to_rgba\n",
    "from pystac_client import Client\n",
    "\n",
    "from odc.stac import configure_rio, stac_load"
   ]
  },
  {
   "cell_type": "code",
   "execution_count": null,
   "id": "4",
   "metadata": {
    "id": "c106964d"
   },
   "outputs": [],
   "source": [
    "def convert_bounds(bbox, invert_y=False):\n",
    "    \"\"\"\n",
    "    Helper method for changing bounding box representation to leaflet notation\n",
    "\n",
    "    ``(lon1, lat1, lon2, lat2) -> ((lat1, lon1), (lat2, lon2))``\n",
    "    \"\"\"\n",
    "    x1, y1, x2, y2 = bbox\n",
    "    if invert_y:\n",
    "        y1, y2 = y2, y1\n",
    "    return ((y1, x1), (y2, x2))"
   ]
  },
  {
   "cell_type": "code",
   "execution_count": null,
   "id": "5",
   "metadata": {
    "id": "44f2ec9b",
    "lines_to_next_cell": 0
   },
   "outputs": [],
   "source": [
    "cfg = \"\"\"---\n",
    "sentinel-s2-l2a-cogs:\n",
    "  assets:\n",
    "    '*':\n",
    "      data_type: uint16\n",
    "      nodata: 0\n",
    "      unit: '1'\n",
    "    SCL:\n",
    "      data_type: uint8\n",
    "      nodata: 0\n",
    "      unit: '1'\n",
    "    visual:\n",
    "      data_type: uint8\n",
    "      nodata: 0\n",
    "      unit: '1'\n",
    "  aliases:  # Alias -> Canonical Name\n",
    "    red: B04\n",
    "    green: B03\n",
    "    blue: B02\n",
    "\"*\":\n",
    "  warnings: ignore # Disable warnings about duplicate common names\n",
    "\"\"\"\n",
    "cfg = yaml.load(cfg, Loader=yaml.SafeLoader)"
   ]
  },
  {
   "cell_type": "markdown",
   "id": "6",
   "metadata": {
    "id": "12b0c92c"
   },
   "source": [
    "## Start Dask Client\n",
    "\n",
    "This step is optional, but it does improve load speed significantly. You\n",
    "don't have to use Dask, as you can load data directly into memory of the\n",
    "notebook."
   ]
  },
  {
   "cell_type": "code",
   "execution_count": null,
   "id": "7",
   "metadata": {
    "id": "25850c21",
    "outputId": "040945d9-2b3b-45b2-ded9-3c6a02ba0193"
   },
   "outputs": [],
   "source": [
    "client = dask.distributed.Client()\n",
    "configure_rio(cloud_defaults=True, aws={\"aws_unsigned\": True}, client=client)\n",
    "display(client)"
   ]
  },
  {
   "cell_type": "markdown",
   "id": "8",
   "metadata": {
    "id": "a6ef50d7"
   },
   "source": [
    "## Find STAC Items to Load"
   ]
  },
  {
   "cell_type": "code",
   "execution_count": null,
   "id": "9",
   "metadata": {
    "id": "1dab13ae",
    "outputId": "7a2b9d8f-9312-46e3-a037-a1afb5a4d93a"
   },
   "outputs": [],
   "source": [
    "km2deg = 1.0 / 111\n",
    "x, y = (113.887, -25.843)  # Center point of a query\n",
    "r = 100 * km2deg\n",
    "bbox = (x - r, y - r, x + r, y + r)\n",
    "\n",
    "catalog = Client.open(\"https://earth-search.aws.element84.com/v1\")\n",
    "\n",
    "query = catalog.search(\n",
    "    collections=[\"sentinel-2-l2a\"], datetime=\"2021-09-16\", limit=100, bbox=bbox\n",
    ")\n",
    "\n",
    "items = list(query.items())\n",
    "print(f\"Found: {len(items):d} datasets\")\n",
    "\n",
    "# Convert STAC items into a GeoJSON FeatureCollection\n",
    "stac_json = query.item_collection_as_dict()"
   ]
  },
  {
   "cell_type": "markdown",
   "id": "10",
   "metadata": {
    "id": "1eaf5e65"
   },
   "source": [
    "## Review Query Result\n",
    "\n",
    "We'll use GeoPandas DataFrame object to make plotting easier."
   ]
  },
  {
   "cell_type": "code",
   "execution_count": null,
   "id": "11",
   "metadata": {
    "id": "f3385d02",
    "outputId": "e3b725a5-855b-4b04-ad0c-0e2875526252"
   },
   "outputs": [],
   "source": [
    "gdf = gpd.GeoDataFrame.from_features(stac_json, \"epsg:4326\")\n",
    "\n",
    "# Compute granule id from components\n",
    "gdf[\"granule\"] = (\n",
    "    gdf[\"mgrs:utm_zone\"].apply(lambda x: f\"{x:02d}\")\n",
    "    + gdf[\"mgrs:latitude_band\"]\n",
    "    + gdf[\"mgrs:grid_square\"]\n",
    ")\n",
    "\n",
    "fig = gdf.plot(\n",
    "    \"granule\",\n",
    "    edgecolor=\"black\",\n",
    "    categorical=True,\n",
    "    aspect=\"equal\",\n",
    "    alpha=0.5,\n",
    "    figsize=(6, 12),\n",
    "    legend=True,\n",
    "    legend_kwds={\"loc\": \"upper left\", \"frameon\": False, \"ncol\": 1},\n",
    ")\n",
    "_ = fig.set_title(\"STAC Query Results\")"
   ]
  },
  {
   "cell_type": "markdown",
   "id": "12",
   "metadata": {
    "id": "bdb5957d"
   },
   "source": [
    "## Plot STAC Items on a Map"
   ]
  },
  {
   "cell_type": "code",
   "execution_count": null,
   "id": "13",
   "metadata": {
    "id": "e1bfbe93",
    "outputId": "313d30ec-8a6a-43d5-f334-a6ef8d49020c"
   },
   "outputs": [],
   "source": [
    "# https://github.com/python-visualization/folium/issues/1501\n",
    "fig = Figure(width=\"400px\", height=\"500px\")\n",
    "map1 = folium.Map()\n",
    "fig.add_child(map1)\n",
    "\n",
    "folium.GeoJson(\n",
    "    shapely.geometry.box(*bbox),\n",
    "    style_function=lambda x: dict(fill=False, weight=1, opacity=0.7, color=\"olive\"),\n",
    "    name=\"Query\",\n",
    ").add_to(map1)\n",
    "\n",
    "gdf.explore(\n",
    "    \"granule\",\n",
    "    categorical=True,\n",
    "    tooltip=[\n",
    "        \"granule\",\n",
    "        \"datetime\",\n",
    "        \"s2:nodata_pixel_percentage\",\n",
    "        \"eo:cloud_cover\",\n",
    "    ],\n",
    "    popup=True,\n",
    "    style_kwds=dict(fillOpacity=0.1, width=2),\n",
    "    name=\"STAC\",\n",
    "    m=map1,\n",
    ")\n",
    "\n",
    "map1.fit_bounds(bounds=convert_bounds(gdf.unary_union.bounds))\n",
    "display(fig)"
   ]
  },
  {
   "cell_type": "markdown",
   "id": "14",
   "metadata": {
    "id": "d575682c"
   },
   "source": [
    "## Construct Dask Dataset\n",
    "\n",
    "Note that even though there are 9 STAC Items on input, there is only one\n",
    "timeslice on output. This is because of `groupby=\"solar_day\"`. With that\n",
    "setting `stac_load` will place all items that occured on the same day (as\n",
    "adjusted for the timezone) into one image plane."
   ]
  },
  {
   "cell_type": "code",
   "execution_count": null,
   "id": "15",
   "metadata": {
    "id": "c1151acf",
    "outputId": "a9c1d52e-ec9c-40ed-bd6e-eb36a49056c2"
   },
   "outputs": [],
   "source": [
    "# Since we will plot it on a map we need to use `EPSG:3857` projection\n",
    "crs = \"epsg:3857\"\n",
    "zoom = 2**5  # overview level 5\n",
    "\n",
    "xx = stac_load(\n",
    "    items,\n",
    "    bands=(\"red\", \"green\", \"blue\"),\n",
    "    crs=crs,\n",
    "    resolution=10 * zoom,\n",
    "    chunks={},  # <-- use Dask\n",
    "    groupby=\"solar_day\",\n",
    "    stac_cfg=cfg,\n",
    ")\n",
    "display(xx)"
   ]
  },
  {
   "cell_type": "markdown",
   "id": "16",
   "metadata": {
    "id": "c832235f"
   },
   "source": [
    "## Load data and convert to RGBA"
   ]
  },
  {
   "cell_type": "code",
   "execution_count": null,
   "id": "17",
   "metadata": {
    "id": "c767fd3e",
    "outputId": "f48a552a-242e-4f34-b7c6-9cececd65dbf"
   },
   "outputs": [],
   "source": [
    "%%time\n",
    "rgba = to_rgba(xx, clamp=(1, 3000))\n",
    "_rgba = rgba.compute()"
   ]
  },
  {
   "cell_type": "markdown",
   "id": "18",
   "metadata": {
    "id": "b3d89547"
   },
   "source": [
    "## Display Image on a map"
   ]
  },
  {
   "cell_type": "code",
   "execution_count": null,
   "id": "19",
   "metadata": {
    "id": "fdbe8133",
    "outputId": "4e6a2a02-f1ae-41bd-bde6-8c2d49e0f50a"
   },
   "outputs": [],
   "source": [
    "map2 = folium.Map()\n",
    "\n",
    "folium.GeoJson(\n",
    "    shapely.geometry.box(*bbox),\n",
    "    style_function=lambda x: dict(fill=False, weight=1, opacity=0.7, color=\"olive\"),\n",
    "    name=\"Query\",\n",
    ").add_to(map2)\n",
    "\n",
    "gdf.explore(\n",
    "    \"granule\",\n",
    "    categorical=True,\n",
    "    tooltip=[\n",
    "        \"granule\",\n",
    "        \"datetime\",\n",
    "        \"s2:nodata_pixel_percentage\",\n",
    "        \"eo:cloud_cover\",\n",
    "    ],\n",
    "    popup=True,\n",
    "    style_kwds=dict(fillOpacity=0.1, width=2),\n",
    "    name=\"STAC\",\n",
    "    m=map2,\n",
    ")\n",
    "\n",
    "\n",
    "# Image bounds are specified in Lat/Lon order with Lat axis inversed\n",
    "image_bounds = convert_bounds(_rgba.geobox.geographic_extent.boundingbox, invert_y=True)\n",
    "img_ovr = folium.raster_layers.ImageOverlay(\n",
    "    _rgba.isel(time=0).data, bounds=image_bounds, name=\"Image\"\n",
    ")\n",
    "img_ovr.add_to(map2)\n",
    "map2.fit_bounds(bounds=image_bounds)\n",
    "\n",
    "folium.LayerControl().add_to(map2)\n",
    "folium.plugins.Fullscreen().add_to(map2)\n",
    "map2"
   ]
  },
  {
   "cell_type": "markdown",
   "id": "20",
   "metadata": {
    "id": "419b8c88"
   },
   "source": [
    "## Load with bounding box\n",
    "\n",
    "As you can see `stac_load` returned all the data covered by STAC items\n",
    "returned from the query. This happens by default as `stac_load` has no way of\n",
    "knowing what your query was. But it is possible to control what region is\n",
    "loaded. There are several mechanisms available, but probably simplest one is\n",
    "to use `bbox=` parameter (compatible with `stac_client`).\n",
    "\n",
    "Let's load a small region at native resolution to demonstrate."
   ]
  },
  {
   "cell_type": "code",
   "execution_count": null,
   "id": "21",
   "metadata": {
    "id": "27a5994f"
   },
   "outputs": [],
   "source": [
    "r = 6.5 * km2deg\n",
    "small_bbox = (x - r, y - r, x + r, y + r)\n",
    "\n",
    "yy = stac_load(\n",
    "    items,\n",
    "    bands=(\"red\", \"green\", \"blue\"),\n",
    "    crs=crs,\n",
    "    resolution=10,\n",
    "    chunks={},  # <-- use Dask\n",
    "    groupby=\"solar_day\",\n",
    "    stac_cfg=cfg,\n",
    "    bbox=small_bbox,\n",
    ")\n",
    "im_small = to_rgba(yy, clamp=(1, 3000)).compute()"
   ]
  },
  {
   "cell_type": "code",
   "execution_count": null,
   "id": "22",
   "metadata": {
    "id": "ec9112c1",
    "outputId": "f1bd9281-bb20-4714-e805-404956da3b93"
   },
   "outputs": [],
   "source": [
    "img_zoomed_in = odc.ui.mk_data_uri(\n",
    "    odc.ui.to_jpeg_data(im_small.isel(time=0).data, quality=80), \"image/jpeg\"\n",
    ")\n",
    "print(f\"Image url: {img_zoomed_in[:64]}...\")"
   ]
  },
  {
   "cell_type": "code",
   "execution_count": null,
   "id": "23",
   "metadata": {
    "id": "aaefba3e",
    "outputId": "18234495-f103-448e-91d9-d111e91fd9f3"
   },
   "outputs": [],
   "source": [
    "HTML(\n",
    "    data=f\"\"\"\n",
    "<style> .img-two-column{{\n",
    "  width: 50%;\n",
    "  float: left;\n",
    "}}</style>\n",
    "<img src=\"{img_zoomed_in}\" alt=\"Sentinel-2 Zoom in\" class=\"img-two-column\">\n",
    "<img src=\"{img_ovr.url}\" alt=\"Sentinel-2 Mosaic\" class=\"img-two-column\">\n",
    "\"\"\"\n",
    ")"
   ]
  },
  {
   "cell_type": "markdown",
   "id": "24",
   "metadata": {
    "id": "8fdfa03f"
   },
   "source": [
    "--------------------------------------------------------------"
   ]
  }
 ],
 "metadata": {
  "colab": {
   "provenance": []
  },
  "jupytext": {
   "formats": "ipynb,py:percent"
  },
  "kernelspec": {
   "display_name": "default",
   "language": "python",
   "name": "python3"
  },
  "language_info": {
   "codemirror_mode": {
    "name": "ipython",
    "version": 3
   },
   "file_extension": ".py",
   "mimetype": "text/x-python",
   "name": "python",
   "nbconvert_exporter": "python",
   "pygments_lexer": "ipython3",
   "version": "3.12.0"
  }
 },
 "nbformat": 4,
 "nbformat_minor": 5
}
